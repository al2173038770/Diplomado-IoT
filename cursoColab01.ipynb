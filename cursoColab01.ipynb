{
  "nbformat": 4,
  "nbformat_minor": 0,
  "metadata": {
    "colab": {
      "name": "cursoColab01.ipynb",
      "provenance": [],
      "authorship_tag": "ABX9TyO7Ult51SMv6FrHrP7qE8w9",
      "include_colab_link": true
    },
    "kernelspec": {
      "name": "python3",
      "display_name": "Python 3"
    },
    "language_info": {
      "name": "python"
    }
  },
  "cells": [
    {
      "cell_type": "markdown",
      "metadata": {
        "id": "view-in-github",
        "colab_type": "text"
      },
      "source": [
        "<a href=\"https://colab.research.google.com/github/artreysan/Diplomado-IoT/blob/main/cursoColab01.ipynb\" target=\"_parent\"><img src=\"https://colab.research.google.com/assets/colab-badge.svg\" alt=\"Open In Colab\"/></a>"
      ]
    },
    {
      "cell_type": "markdown",
      "metadata": {
        "id": "G2XJqCYHZgnK"
      },
      "source": [
        "Hola a todos mis amigos\n",
        "\n",
        "#Curso rapido de Colab\n",
        "\n",
        "Estamos viendo las bases de Colab\n",
        "\n",
        "##Markdown \n",
        "Estamos aprendiendo los diferentes estilos que podemos usar\n",
        "\n",
        "### Encabezados"
      ]
    },
    {
      "cell_type": "code",
      "metadata": {
        "id": "wu-MSkapqjWh"
      },
      "source": [
        ""
      ],
      "execution_count": null,
      "outputs": []
    },
    {
      "cell_type": "markdown",
      "metadata": {
        "id": "dZJxg6BMqjhg"
      },
      "source": [
        ""
      ]
    },
    {
      "cell_type": "code",
      "metadata": {
        "id": "Cw2NbKVlqjrK"
      },
      "source": [
        ""
      ],
      "execution_count": null,
      "outputs": []
    },
    {
      "cell_type": "markdown",
      "metadata": {
        "id": "5MnaMIh6qj18"
      },
      "source": [
        ""
      ]
    },
    {
      "cell_type": "code",
      "metadata": {
        "id": "3gIAsltLqkA-"
      },
      "source": [
        ""
      ],
      "execution_count": null,
      "outputs": []
    },
    {
      "cell_type": "markdown",
      "metadata": {
        "id": "Lbz1eBUzaFvF"
      },
      "source": [
        "Yo veo * Fantasmas* en el correo <br>\n",
        "Estoy aprendiendo  a usar **Colab** de Google <br>\n",
        "# Y estoy ~aprendiendo a~ usar Colab\n",
        "\n",
        "\n",
        "\n"
      ]
    },
    {
      "cell_type": "code",
      "metadata": {
        "id": "e72klDc1qna4"
      },
      "source": [
        ""
      ],
      "execution_count": null,
      "outputs": []
    },
    {
      "cell_type": "markdown",
      "metadata": {
        "id": "NHQNeBd-qntC"
      },
      "source": [
        ""
      ]
    },
    {
      "cell_type": "markdown",
      "metadata": {
        "id": "viRMpquvqn7z"
      },
      "source": [
        ""
      ]
    },
    {
      "cell_type": "code",
      "metadata": {
        "id": "gYCy-M7UqoLq"
      },
      "source": [
        ""
      ],
      "execution_count": null,
      "outputs": []
    },
    {
      "cell_type": "markdown",
      "metadata": {
        "id": "uMiy-sCkqqcB"
      },
      "source": [
        "# Nueva seccion de identacion\n",
        "\n",
        "Hola\n",
        "> A todos\n",
        ">>mis amigos\n",
        "\n",
        ">De github\n",
        "\n",
        "> Y redit\n",
        "\n",
        "1. a\n",
        "2. b\n",
        "3. c\n",
        "\n",
        "* manzana \n",
        "* pera  \n",
        "* manzana\n",
        "\n"
      ]
    },
    {
      "cell_type": "markdown",
      "metadata": {
        "id": "Oq8PwaGOrtV7"
      },
      "source": [
        ""
      ]
    },
    {
      "cell_type": "markdown",
      "metadata": {
        "id": "-CXjy6uXrtcN"
      },
      "source": [
        "# Ligas \n",
        "\n",
        "[Liga chida](https://www.youtube.com/watch?v=H2wYlF77LG0)\n",
        "\n",
        "![Imagen](https://www.pikpng.com/pngl/m/30-306994_marios-hat-celebrates-its-first-anniversary-super-mario.png)\n",
        "\n",
        "\n",
        "\n"
      ]
    },
    {
      "cell_type": "markdown",
      "metadata": {
        "id": "NCbmYYBLsMuh"
      },
      "source": [
        "#Formulas en formato de LATEX\n",
        "\n",
        "$y=x^3$\n",
        "\n",
        "$\\frac{a!}{b^2(n+k)}$\n"
      ]
    },
    {
      "cell_type": "markdown",
      "metadata": {
        "id": "fnAvfVWXtca_"
      },
      "source": [
        "#Tablas\n",
        "\n",
        "Estado | Compras\n",
        "---- | ----\n",
        "Puebla | 45\n",
        "Tabasco | 46\n",
        "Tlaxcala | 43"
      ]
    },
    {
      "cell_type": "markdown",
      "metadata": {
        "id": "FcKZq-Wdtc9I"
      },
      "source": [
        ""
      ]
    }
  ]
}